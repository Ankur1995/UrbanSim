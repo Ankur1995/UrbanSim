{
 "cells": [
  {
   "cell_type": "code",
   "execution_count": 1,
   "metadata": {},
   "outputs": [],
   "source": [
    "import networkx as nx\n",
    "import matplotlib.pyplot as plt\n",
    "import pandas as pd\n",
    "from operator import itemgetter"
   ]
  },
  {
   "cell_type": "code",
   "execution_count": 2,
   "metadata": {},
   "outputs": [],
   "source": [
    "G = nx.read_graphml('london.graph.xml')"
   ]
  },
  {
   "cell_type": "code",
   "execution_count": 3,
   "metadata": {},
   "outputs": [
    {
     "name": "stdout",
     "output_type": "stream",
     "text": [
      "Graph with 401 nodes and 467 edges\n"
     ]
    },
    {
     "name": "stderr",
     "output_type": "stream",
     "text": [
      "C:\\Users\\ankur\\AppData\\Local\\Temp\\ipykernel_16780\\2606185536.py:1: DeprecationWarning: info is deprecated and will be removed in version 3.0.\n",
      "\n",
      "  print(nx.info(G))\n"
     ]
    }
   ],
   "source": [
    "print(nx.info(G))"
   ]
  },
  {
   "cell_type": "code",
   "execution_count": 4,
   "metadata": {},
   "outputs": [
    {
     "data": {
      "text/plain": [
       "('Wembley Park', {'coords': '(519316.5590174915, 186389.32981656672)'})"
      ]
     },
     "execution_count": 4,
     "metadata": {},
     "output_type": "execute_result"
    }
   ],
   "source": [
    "list(G.nodes(data = True))[0]"
   ]
  },
  {
   "cell_type": "code",
   "execution_count": 5,
   "metadata": {},
   "outputs": [
    {
     "data": {
      "text/html": [
       "<div>\n",
       "<style scoped>\n",
       "    .dataframe tbody tr th:only-of-type {\n",
       "        vertical-align: middle;\n",
       "    }\n",
       "\n",
       "    .dataframe tbody tr th {\n",
       "        vertical-align: top;\n",
       "    }\n",
       "\n",
       "    .dataframe thead th {\n",
       "        text-align: right;\n",
       "    }\n",
       "</style>\n",
       "<table border=\"1\" class=\"dataframe\">\n",
       "  <thead>\n",
       "    <tr style=\"text-align: right;\">\n",
       "      <th></th>\n",
       "      <th>source</th>\n",
       "      <th>target</th>\n",
       "      <th>length</th>\n",
       "      <th>line_name</th>\n",
       "      <th>flows</th>\n",
       "    </tr>\n",
       "  </thead>\n",
       "  <tbody>\n",
       "    <tr>\n",
       "      <th>0</th>\n",
       "      <td>Wembley Park</td>\n",
       "      <td>Kingsbury</td>\n",
       "      <td>2916.771558</td>\n",
       "      <td>Jubilee</td>\n",
       "      <td>12356</td>\n",
       "    </tr>\n",
       "    <tr>\n",
       "      <th>1</th>\n",
       "      <td>Wembley Park</td>\n",
       "      <td>Neasden</td>\n",
       "      <td>2353.165938</td>\n",
       "      <td>Jubilee</td>\n",
       "      <td>6744</td>\n",
       "    </tr>\n",
       "    <tr>\n",
       "      <th>2</th>\n",
       "      <td>Wembley Park</td>\n",
       "      <td>Preston Road</td>\n",
       "      <td>1419.735166</td>\n",
       "      <td>Metropolitan</td>\n",
       "      <td>36601</td>\n",
       "    </tr>\n",
       "    <tr>\n",
       "      <th>3</th>\n",
       "      <td>Wembley Park</td>\n",
       "      <td>Finchley Road</td>\n",
       "      <td>7266.373927</td>\n",
       "      <td>Metropolitan</td>\n",
       "      <td>55216</td>\n",
       "    </tr>\n",
       "    <tr>\n",
       "      <th>4</th>\n",
       "      <td>Kingsbury</td>\n",
       "      <td>Queensbury</td>\n",
       "      <td>1245.995234</td>\n",
       "      <td>Jubilee</td>\n",
       "      <td>9419</td>\n",
       "    </tr>\n",
       "    <tr>\n",
       "      <th>5</th>\n",
       "      <td>Queensbury</td>\n",
       "      <td>Canons Park</td>\n",
       "      <td>1693.307343</td>\n",
       "      <td>Jubilee</td>\n",
       "      <td>6385</td>\n",
       "    </tr>\n",
       "    <tr>\n",
       "      <th>6</th>\n",
       "      <td>Canons Park</td>\n",
       "      <td>Stanmore</td>\n",
       "      <td>1419.669476</td>\n",
       "      <td>Jubilee</td>\n",
       "      <td>3624</td>\n",
       "    </tr>\n",
       "    <tr>\n",
       "      <th>7</th>\n",
       "      <td>Stratford</td>\n",
       "      <td>West Ham</td>\n",
       "      <td>1673.509515</td>\n",
       "      <td>Jubilee</td>\n",
       "      <td>91801</td>\n",
       "    </tr>\n",
       "    <tr>\n",
       "      <th>8</th>\n",
       "      <td>Stratford</td>\n",
       "      <td>Mile End</td>\n",
       "      <td>2805.001392</td>\n",
       "      <td>Central</td>\n",
       "      <td>12010</td>\n",
       "    </tr>\n",
       "    <tr>\n",
       "      <th>9</th>\n",
       "      <td>Stratford</td>\n",
       "      <td>Leyton</td>\n",
       "      <td>2131.342926</td>\n",
       "      <td>Central</td>\n",
       "      <td>56082</td>\n",
       "    </tr>\n",
       "  </tbody>\n",
       "</table>\n",
       "</div>"
      ],
      "text/plain": [
       "         source         target       length     line_name  flows\n",
       "0  Wembley Park      Kingsbury  2916.771558       Jubilee  12356\n",
       "1  Wembley Park        Neasden  2353.165938       Jubilee   6744\n",
       "2  Wembley Park   Preston Road  1419.735166  Metropolitan  36601\n",
       "3  Wembley Park  Finchley Road  7266.373927  Metropolitan  55216\n",
       "4     Kingsbury     Queensbury  1245.995234       Jubilee   9419\n",
       "5    Queensbury    Canons Park  1693.307343       Jubilee   6385\n",
       "6   Canons Park       Stanmore  1419.669476       Jubilee   3624\n",
       "7     Stratford       West Ham  1673.509515       Jubilee  91801\n",
       "8     Stratford       Mile End  2805.001392       Central  12010\n",
       "9     Stratford         Leyton  2131.342926       Central  56082"
      ]
     },
     "execution_count": 5,
     "metadata": {},
     "output_type": "execute_result"
    }
   ],
   "source": [
    "df = nx.to_pandas_edgelist(G)\n",
    "df[0:10]"
   ]
  },
  {
   "cell_type": "code",
   "execution_count": 6,
   "metadata": {},
   "outputs": [],
   "source": [
    "between_w = nx.betweenness_centrality(G, normalized=True, weight='flows')\n",
    "nx.set_node_attributes(G, between_w, 'between_w')"
   ]
  },
  {
   "cell_type": "code",
   "execution_count": 7,
   "metadata": {},
   "outputs": [
    {
     "name": "stderr",
     "output_type": "stream",
     "text": [
      "C:\\Users\\ankur\\AppData\\Local\\Temp\\ipykernel_16780\\2141803784.py:3: FutureWarning: The default dtype for empty Series will be 'object' instead of 'float64' in a future version. Specify a dtype explicitly to silence this warning.\n",
      "  df['station_name'] = pd.Series(nx.get_node_attributes(G, 'station_name'))\n"
     ]
    },
    {
     "data": {
      "text/html": [
       "<div>\n",
       "<style scoped>\n",
       "    .dataframe tbody tr th:only-of-type {\n",
       "        vertical-align: middle;\n",
       "    }\n",
       "\n",
       "    .dataframe tbody tr th {\n",
       "        vertical-align: top;\n",
       "    }\n",
       "\n",
       "    .dataframe thead th {\n",
       "        text-align: right;\n",
       "    }\n",
       "</style>\n",
       "<table border=\"1\" class=\"dataframe\">\n",
       "  <thead>\n",
       "    <tr style=\"text-align: right;\">\n",
       "      <th></th>\n",
       "      <th>between_w</th>\n",
       "    </tr>\n",
       "  </thead>\n",
       "  <tbody>\n",
       "    <tr>\n",
       "      <th>West Hampstead</th>\n",
       "      <td>0.355909</td>\n",
       "    </tr>\n",
       "    <tr>\n",
       "      <th>Gospel Oak</th>\n",
       "      <td>0.275025</td>\n",
       "    </tr>\n",
       "    <tr>\n",
       "      <th>Finchley Road &amp; Frognal</th>\n",
       "      <td>0.268747</td>\n",
       "    </tr>\n",
       "    <tr>\n",
       "      <th>Hampstead Heath</th>\n",
       "      <td>0.267820</td>\n",
       "    </tr>\n",
       "    <tr>\n",
       "      <th>Willesden Junction</th>\n",
       "      <td>0.240182</td>\n",
       "    </tr>\n",
       "    <tr>\n",
       "      <th>Leicester Square</th>\n",
       "      <td>0.214258</td>\n",
       "    </tr>\n",
       "    <tr>\n",
       "      <th>Brondesbury</th>\n",
       "      <td>0.207093</td>\n",
       "    </tr>\n",
       "    <tr>\n",
       "      <th>Brondesbury Park</th>\n",
       "      <td>0.205658</td>\n",
       "    </tr>\n",
       "    <tr>\n",
       "      <th>Kensal Rise</th>\n",
       "      <td>0.204258</td>\n",
       "    </tr>\n",
       "    <tr>\n",
       "      <th>Blackhorse Road</th>\n",
       "      <td>0.201651</td>\n",
       "    </tr>\n",
       "  </tbody>\n",
       "</table>\n",
       "</div>"
      ],
      "text/plain": [
       "                         between_w\n",
       "West Hampstead            0.355909\n",
       "Gospel Oak                0.275025\n",
       "Finchley Road & Frognal   0.268747\n",
       "Hampstead Heath           0.267820\n",
       "Willesden Junction        0.240182\n",
       "Leicester Square          0.214258\n",
       "Brondesbury               0.207093\n",
       "Brondesbury Park          0.205658\n",
       "Kensal Rise               0.204258\n",
       "Blackhorse Road           0.201651"
      ]
     },
     "execution_count": 7,
     "metadata": {},
     "output_type": "execute_result"
    }
   ],
   "source": [
    "# To dataframe using the nodes as the index\n",
    "df = pd.DataFrame(index=G.nodes())\n",
    "df['station_name'] = pd.Series(nx.get_node_attributes(G, 'station_name'))\n",
    "df['between_w'] = pd.Series(nx.get_node_attributes(G, 'between_w'))\n",
    "\n",
    "df_sorted = df.sort_values([\"between_w\"], ascending=False)\n",
    "df_sorted = df_sorted.drop('station_name', axis=1)\n",
    "df_sorted[0:10]"
   ]
  },
  {
   "cell_type": "code",
   "execution_count": 8,
   "metadata": {},
   "outputs": [
    {
     "name": "stdout",
     "output_type": "stream",
     "text": [
      "                         between_w\n",
      "West Hampstead            0.355909\n",
      "Gospel Oak                0.275025\n",
      "Finchley Road & Frognal   0.268747\n",
      "Hampstead Heath           0.267820\n",
      "Willesden Junction        0.240182\n",
      "Leicester Square          0.214258\n",
      "Brondesbury               0.207093\n",
      "Brondesbury Park          0.205658\n",
      "Kensal Rise               0.204258\n",
      "Blackhorse Road           0.201651\n"
     ]
    }
   ],
   "source": [
    "print(df_sorted[0:10])"
   ]
  },
  {
   "cell_type": "code",
   "execution_count": 9,
   "metadata": {},
   "outputs": [],
   "source": [
    "G = nx.read_graphml('london.graph.xml')\n",
    "G1 = G.copy()\n",
    "G2 = G.copy()"
   ]
  },
  {
   "cell_type": "code",
   "execution_count": 10,
   "metadata": {},
   "outputs": [
    {
     "data": {
      "text/html": [
       "<div>\n",
       "<style scoped>\n",
       "    .dataframe tbody tr th:only-of-type {\n",
       "        vertical-align: middle;\n",
       "    }\n",
       "\n",
       "    .dataframe tbody tr th {\n",
       "        vertical-align: top;\n",
       "    }\n",
       "\n",
       "    .dataframe thead th {\n",
       "        text-align: right;\n",
       "    }\n",
       "</style>\n",
       "<table border=\"1\" class=\"dataframe\">\n",
       "  <thead>\n",
       "    <tr style=\"text-align: right;\">\n",
       "      <th></th>\n",
       "      <th>source</th>\n",
       "      <th>target</th>\n",
       "      <th>length</th>\n",
       "      <th>line_name</th>\n",
       "      <th>flows</th>\n",
       "    </tr>\n",
       "  </thead>\n",
       "  <tbody>\n",
       "    <tr>\n",
       "      <th>0</th>\n",
       "      <td>Wembley Park</td>\n",
       "      <td>Kingsbury</td>\n",
       "      <td>2916.771558</td>\n",
       "      <td>Jubilee</td>\n",
       "      <td>12356</td>\n",
       "    </tr>\n",
       "    <tr>\n",
       "      <th>1</th>\n",
       "      <td>Wembley Park</td>\n",
       "      <td>Neasden</td>\n",
       "      <td>2353.165938</td>\n",
       "      <td>Jubilee</td>\n",
       "      <td>6744</td>\n",
       "    </tr>\n",
       "    <tr>\n",
       "      <th>2</th>\n",
       "      <td>Wembley Park</td>\n",
       "      <td>Preston Road</td>\n",
       "      <td>1419.735166</td>\n",
       "      <td>Metropolitan</td>\n",
       "      <td>36601</td>\n",
       "    </tr>\n",
       "    <tr>\n",
       "      <th>3</th>\n",
       "      <td>Wembley Park</td>\n",
       "      <td>Finchley Road</td>\n",
       "      <td>7266.373927</td>\n",
       "      <td>Metropolitan</td>\n",
       "      <td>55216</td>\n",
       "    </tr>\n",
       "    <tr>\n",
       "      <th>4</th>\n",
       "      <td>Kingsbury</td>\n",
       "      <td>Queensbury</td>\n",
       "      <td>1245.995234</td>\n",
       "      <td>Jubilee</td>\n",
       "      <td>9419</td>\n",
       "    </tr>\n",
       "    <tr>\n",
       "      <th>5</th>\n",
       "      <td>Queensbury</td>\n",
       "      <td>Canons Park</td>\n",
       "      <td>1693.307343</td>\n",
       "      <td>Jubilee</td>\n",
       "      <td>6385</td>\n",
       "    </tr>\n",
       "    <tr>\n",
       "      <th>6</th>\n",
       "      <td>Canons Park</td>\n",
       "      <td>Stanmore</td>\n",
       "      <td>1419.669476</td>\n",
       "      <td>Jubilee</td>\n",
       "      <td>3624</td>\n",
       "    </tr>\n",
       "    <tr>\n",
       "      <th>7</th>\n",
       "      <td>Stratford</td>\n",
       "      <td>West Ham</td>\n",
       "      <td>1673.509515</td>\n",
       "      <td>Jubilee</td>\n",
       "      <td>91801</td>\n",
       "    </tr>\n",
       "    <tr>\n",
       "      <th>8</th>\n",
       "      <td>Stratford</td>\n",
       "      <td>Mile End</td>\n",
       "      <td>2805.001392</td>\n",
       "      <td>Central</td>\n",
       "      <td>12010</td>\n",
       "    </tr>\n",
       "    <tr>\n",
       "      <th>9</th>\n",
       "      <td>Stratford</td>\n",
       "      <td>Leyton</td>\n",
       "      <td>2131.342926</td>\n",
       "      <td>Central</td>\n",
       "      <td>56082</td>\n",
       "    </tr>\n",
       "  </tbody>\n",
       "</table>\n",
       "</div>"
      ],
      "text/plain": [
       "         source         target       length     line_name  flows\n",
       "0  Wembley Park      Kingsbury  2916.771558       Jubilee  12356\n",
       "1  Wembley Park        Neasden  2353.165938       Jubilee   6744\n",
       "2  Wembley Park   Preston Road  1419.735166  Metropolitan  36601\n",
       "3  Wembley Park  Finchley Road  7266.373927  Metropolitan  55216\n",
       "4     Kingsbury     Queensbury  1245.995234       Jubilee   9419\n",
       "5    Queensbury    Canons Park  1693.307343       Jubilee   6385\n",
       "6   Canons Park       Stanmore  1419.669476       Jubilee   3624\n",
       "7     Stratford       West Ham  1673.509515       Jubilee  91801\n",
       "8     Stratford       Mile End  2805.001392       Central  12010\n",
       "9     Stratford         Leyton  2131.342926       Central  56082"
      ]
     },
     "execution_count": 10,
     "metadata": {},
     "output_type": "execute_result"
    }
   ],
   "source": [
    "df = nx.to_pandas_edgelist(G1)\n",
    "originaldf = df.copy()\n",
    "df[0:10]"
   ]
  },
  {
   "cell_type": "code",
   "execution_count": 11,
   "metadata": {},
   "outputs": [
    {
     "name": "stderr",
     "output_type": "stream",
     "text": [
      "C:\\Users\\ankur\\AppData\\Local\\Temp\\ipykernel_16780\\388043564.py:7: FutureWarning: The default dtype for empty Series will be 'object' instead of 'float64' in a future version. Specify a dtype explicitly to silence this warning.\n",
      "  df['station_name'] = pd.Series(nx.get_node_attributes(G1, 'station_name'))\n"
     ]
    },
    {
     "data": {
      "text/html": [
       "<div>\n",
       "<style scoped>\n",
       "    .dataframe tbody tr th:only-of-type {\n",
       "        vertical-align: middle;\n",
       "    }\n",
       "\n",
       "    .dataframe tbody tr th {\n",
       "        vertical-align: top;\n",
       "    }\n",
       "\n",
       "    .dataframe thead th {\n",
       "        text-align: right;\n",
       "    }\n",
       "</style>\n",
       "<table border=\"1\" class=\"dataframe\">\n",
       "  <thead>\n",
       "    <tr style=\"text-align: right;\">\n",
       "      <th></th>\n",
       "      <th>betweenness_t</th>\n",
       "    </tr>\n",
       "  </thead>\n",
       "  <tbody>\n",
       "    <tr>\n",
       "      <th>Stratford</th>\n",
       "      <td>0.297846</td>\n",
       "    </tr>\n",
       "    <tr>\n",
       "      <th>Bank and Monument</th>\n",
       "      <td>0.290489</td>\n",
       "    </tr>\n",
       "    <tr>\n",
       "      <th>Liverpool Street</th>\n",
       "      <td>0.270807</td>\n",
       "    </tr>\n",
       "    <tr>\n",
       "      <th>King's Cross St. Pancras</th>\n",
       "      <td>0.255307</td>\n",
       "    </tr>\n",
       "    <tr>\n",
       "      <th>Waterloo</th>\n",
       "      <td>0.243921</td>\n",
       "    </tr>\n",
       "    <tr>\n",
       "      <th>Green Park</th>\n",
       "      <td>0.215835</td>\n",
       "    </tr>\n",
       "    <tr>\n",
       "      <th>Euston</th>\n",
       "      <td>0.208324</td>\n",
       "    </tr>\n",
       "    <tr>\n",
       "      <th>Westminster</th>\n",
       "      <td>0.203335</td>\n",
       "    </tr>\n",
       "    <tr>\n",
       "      <th>Baker Street</th>\n",
       "      <td>0.191568</td>\n",
       "    </tr>\n",
       "    <tr>\n",
       "      <th>Finchley Road</th>\n",
       "      <td>0.165085</td>\n",
       "    </tr>\n",
       "  </tbody>\n",
       "</table>\n",
       "</div>"
      ],
      "text/plain": [
       "                          betweenness_t\n",
       "Stratford                      0.297846\n",
       "Bank and Monument              0.290489\n",
       "Liverpool Street               0.270807\n",
       "King's Cross St. Pancras       0.255307\n",
       "Waterloo                       0.243921\n",
       "Green Park                     0.215835\n",
       "Euston                         0.208324\n",
       "Westminster                    0.203335\n",
       "Baker Street                   0.191568\n",
       "Finchley Road                  0.165085"
      ]
     },
     "execution_count": 11,
     "metadata": {},
     "output_type": "execute_result"
    }
   ],
   "source": [
    "bet_london_t=nx.betweenness_centrality(G1, normalized=True)\n",
    "# We can add these values to the nodes attributes:\n",
    "nx.set_node_attributes(G1,bet_london_t, 'betweenness_t')\n",
    "\n",
    "# To ataframe using the nodes as the index\n",
    "df = pd.DataFrame(index=G1.nodes())\n",
    "df['station_name'] = pd.Series(nx.get_node_attributes(G1, 'station_name'))\n",
    "df['betweenness_t'] = pd.Series(nx.get_node_attributes(G1, 'betweenness_t'))\n",
    "\n",
    "df_sorted = df.sort_values([\"betweenness_t\"], ascending=False)\n",
    "df_sorted = df_sorted.drop('station_name', axis=1)\n",
    "df_sorted[0:10]"
   ]
  },
  {
   "cell_type": "code",
   "execution_count": 12,
   "metadata": {},
   "outputs": [],
   "source": [
    "sorted_ten = list(df_sorted.index)[0:10]"
   ]
  },
  {
   "cell_type": "code",
   "execution_count": 13,
   "metadata": {},
   "outputs": [],
   "source": [
    "station = sorted_ten[0]"
   ]
  },
  {
   "cell_type": "code",
   "execution_count": 14,
   "metadata": {},
   "outputs": [],
   "source": [
    "def largest_component_weight_ratio(graph):\n",
    "    df = nx.to_pandas_edgelist(graph)\n",
    "    total_flows = df['flows'].sum()\n",
    "    \n",
    "    components = nx.connected_components(graph)\n",
    "    largest = max(components, key=len)\n",
    "    Largest_subgraph = graph.subgraph(largest)\n",
    "    df_subgraph = nx.to_pandas_edgelist(Largest_subgraph)\n",
    "    largest_subgraph_flows = df_subgraph['flows'].sum()\n",
    "    return (largest_subgraph_flows / total_flows)"
   ]
  },
  {
   "cell_type": "code",
   "execution_count": 15,
   "metadata": {},
   "outputs": [
    {
     "name": "stdout",
     "output_type": "stream",
     "text": [
      "3\n",
      "0.9764354734951475\n"
     ]
    }
   ],
   "source": [
    "G1.remove_node(station)\n",
    "print(nx.number_connected_components(G1))\n",
    "print(largest_component_weight_ratio(G1))"
   ]
  },
  {
   "cell_type": "code",
   "execution_count": 16,
   "metadata": {},
   "outputs": [
    {
     "data": {
      "text/html": [
       "<div>\n",
       "<style scoped>\n",
       "    .dataframe tbody tr th:only-of-type {\n",
       "        vertical-align: middle;\n",
       "    }\n",
       "\n",
       "    .dataframe tbody tr th {\n",
       "        vertical-align: top;\n",
       "    }\n",
       "\n",
       "    .dataframe thead th {\n",
       "        text-align: right;\n",
       "    }\n",
       "</style>\n",
       "<table border=\"1\" class=\"dataframe\">\n",
       "  <thead>\n",
       "    <tr style=\"text-align: right;\">\n",
       "      <th></th>\n",
       "      <th>source</th>\n",
       "      <th>target</th>\n",
       "      <th>length</th>\n",
       "      <th>line_name</th>\n",
       "      <th>flows</th>\n",
       "    </tr>\n",
       "  </thead>\n",
       "  <tbody>\n",
       "    <tr>\n",
       "      <th>0</th>\n",
       "      <td>Wembley Park</td>\n",
       "      <td>Kingsbury</td>\n",
       "      <td>2916.771558</td>\n",
       "      <td>Jubilee</td>\n",
       "      <td>12356</td>\n",
       "    </tr>\n",
       "    <tr>\n",
       "      <th>1</th>\n",
       "      <td>Wembley Park</td>\n",
       "      <td>Neasden</td>\n",
       "      <td>2353.165938</td>\n",
       "      <td>Jubilee</td>\n",
       "      <td>6744</td>\n",
       "    </tr>\n",
       "    <tr>\n",
       "      <th>2</th>\n",
       "      <td>Wembley Park</td>\n",
       "      <td>Preston Road</td>\n",
       "      <td>1419.735166</td>\n",
       "      <td>Metropolitan</td>\n",
       "      <td>36601</td>\n",
       "    </tr>\n",
       "    <tr>\n",
       "      <th>3</th>\n",
       "      <td>Wembley Park</td>\n",
       "      <td>Finchley Road</td>\n",
       "      <td>7266.373927</td>\n",
       "      <td>Metropolitan</td>\n",
       "      <td>55216</td>\n",
       "    </tr>\n",
       "    <tr>\n",
       "      <th>4</th>\n",
       "      <td>Kingsbury</td>\n",
       "      <td>Queensbury</td>\n",
       "      <td>1245.995234</td>\n",
       "      <td>Jubilee</td>\n",
       "      <td>9419</td>\n",
       "    </tr>\n",
       "    <tr>\n",
       "      <th>5</th>\n",
       "      <td>Queensbury</td>\n",
       "      <td>Canons Park</td>\n",
       "      <td>1693.307343</td>\n",
       "      <td>Jubilee</td>\n",
       "      <td>6385</td>\n",
       "    </tr>\n",
       "    <tr>\n",
       "      <th>6</th>\n",
       "      <td>Canons Park</td>\n",
       "      <td>Stanmore</td>\n",
       "      <td>1419.669476</td>\n",
       "      <td>Jubilee</td>\n",
       "      <td>3624</td>\n",
       "    </tr>\n",
       "    <tr>\n",
       "      <th>7</th>\n",
       "      <td>Stratford</td>\n",
       "      <td>West Ham</td>\n",
       "      <td>1673.509515</td>\n",
       "      <td>Jubilee</td>\n",
       "      <td>91801</td>\n",
       "    </tr>\n",
       "    <tr>\n",
       "      <th>8</th>\n",
       "      <td>Stratford</td>\n",
       "      <td>Mile End</td>\n",
       "      <td>2805.001392</td>\n",
       "      <td>Central</td>\n",
       "      <td>12010</td>\n",
       "    </tr>\n",
       "    <tr>\n",
       "      <th>9</th>\n",
       "      <td>Stratford</td>\n",
       "      <td>Leyton</td>\n",
       "      <td>2131.342926</td>\n",
       "      <td>Central</td>\n",
       "      <td>56082</td>\n",
       "    </tr>\n",
       "  </tbody>\n",
       "</table>\n",
       "</div>"
      ],
      "text/plain": [
       "         source         target       length     line_name  flows\n",
       "0  Wembley Park      Kingsbury  2916.771558       Jubilee  12356\n",
       "1  Wembley Park        Neasden  2353.165938       Jubilee   6744\n",
       "2  Wembley Park   Preston Road  1419.735166  Metropolitan  36601\n",
       "3  Wembley Park  Finchley Road  7266.373927  Metropolitan  55216\n",
       "4     Kingsbury     Queensbury  1245.995234       Jubilee   9419\n",
       "5    Queensbury    Canons Park  1693.307343       Jubilee   6385\n",
       "6   Canons Park       Stanmore  1419.669476       Jubilee   3624\n",
       "7     Stratford       West Ham  1673.509515       Jubilee  91801\n",
       "8     Stratford       Mile End  2805.001392       Central  12010\n",
       "9     Stratford         Leyton  2131.342926       Central  56082"
      ]
     },
     "execution_count": 16,
     "metadata": {},
     "output_type": "execute_result"
    }
   ],
   "source": [
    "df = nx.to_pandas_edgelist(G2)\n",
    "df[0:10]"
   ]
  },
  {
   "cell_type": "code",
   "execution_count": 17,
   "metadata": {},
   "outputs": [
    {
     "name": "stderr",
     "output_type": "stream",
     "text": [
      "C:\\Users\\ankur\\AppData\\Local\\Temp\\ipykernel_16780\\3783939136.py:5: FutureWarning: The default dtype for empty Series will be 'object' instead of 'float64' in a future version. Specify a dtype explicitly to silence this warning.\n",
      "  df['station_name'] = pd.Series(nx.get_node_attributes(G2, 'station_name'))\n"
     ]
    },
    {
     "data": {
      "text/html": [
       "<div>\n",
       "<style scoped>\n",
       "    .dataframe tbody tr th:only-of-type {\n",
       "        vertical-align: middle;\n",
       "    }\n",
       "\n",
       "    .dataframe tbody tr th {\n",
       "        vertical-align: top;\n",
       "    }\n",
       "\n",
       "    .dataframe thead th {\n",
       "        text-align: right;\n",
       "    }\n",
       "</style>\n",
       "<table border=\"1\" class=\"dataframe\">\n",
       "  <thead>\n",
       "    <tr style=\"text-align: right;\">\n",
       "      <th></th>\n",
       "      <th>between_w</th>\n",
       "    </tr>\n",
       "  </thead>\n",
       "  <tbody>\n",
       "    <tr>\n",
       "      <th>West Hampstead</th>\n",
       "      <td>0.355909</td>\n",
       "    </tr>\n",
       "    <tr>\n",
       "      <th>Gospel Oak</th>\n",
       "      <td>0.275025</td>\n",
       "    </tr>\n",
       "    <tr>\n",
       "      <th>Finchley Road &amp; Frognal</th>\n",
       "      <td>0.268747</td>\n",
       "    </tr>\n",
       "    <tr>\n",
       "      <th>Hampstead Heath</th>\n",
       "      <td>0.267820</td>\n",
       "    </tr>\n",
       "    <tr>\n",
       "      <th>Willesden Junction</th>\n",
       "      <td>0.240182</td>\n",
       "    </tr>\n",
       "    <tr>\n",
       "      <th>Leicester Square</th>\n",
       "      <td>0.214258</td>\n",
       "    </tr>\n",
       "    <tr>\n",
       "      <th>Brondesbury</th>\n",
       "      <td>0.207093</td>\n",
       "    </tr>\n",
       "    <tr>\n",
       "      <th>Brondesbury Park</th>\n",
       "      <td>0.205658</td>\n",
       "    </tr>\n",
       "    <tr>\n",
       "      <th>Kensal Rise</th>\n",
       "      <td>0.204258</td>\n",
       "    </tr>\n",
       "    <tr>\n",
       "      <th>Blackhorse Road</th>\n",
       "      <td>0.201651</td>\n",
       "    </tr>\n",
       "  </tbody>\n",
       "</table>\n",
       "</div>"
      ],
      "text/plain": [
       "                         between_w\n",
       "West Hampstead            0.355909\n",
       "Gospel Oak                0.275025\n",
       "Finchley Road & Frognal   0.268747\n",
       "Hampstead Heath           0.267820\n",
       "Willesden Junction        0.240182\n",
       "Leicester Square          0.214258\n",
       "Brondesbury               0.207093\n",
       "Brondesbury Park          0.205658\n",
       "Kensal Rise               0.204258\n",
       "Blackhorse Road           0.201651"
      ]
     },
     "execution_count": 17,
     "metadata": {},
     "output_type": "execute_result"
    }
   ],
   "source": [
    "between_w = nx.betweenness_centrality(G2, weight='flows', normalized=True)\n",
    "nx.set_node_attributes(G2, between_w, 'between_w')\n",
    "\n",
    "df = pd.DataFrame(index=G2.nodes())\n",
    "df['station_name'] = pd.Series(nx.get_node_attributes(G2, 'station_name'))\n",
    "df['between_w'] = pd.Series(nx.get_node_attributes(G2, 'between_w'))\n",
    "\n",
    "df_sorted = df.sort_values([\"between_w\"], ascending=False)\n",
    "df_sorted = df_sorted.drop('station_name', axis=1)\n",
    "df_sorted[0:10]"
   ]
  },
  {
   "cell_type": "code",
   "execution_count": 18,
   "metadata": {},
   "outputs": [],
   "source": [
    "sorted_ten = list(df_sorted.index)[0:10]"
   ]
  },
  {
   "cell_type": "code",
   "execution_count": 19,
   "metadata": {},
   "outputs": [],
   "source": [
    "station = sorted_ten[0]"
   ]
  },
  {
   "cell_type": "code",
   "execution_count": 20,
   "metadata": {},
   "outputs": [
    {
     "name": "stdout",
     "output_type": "stream",
     "text": [
      "1\n",
      "1.0\n"
     ]
    }
   ],
   "source": [
    "G2.remove_node(station)\n",
    "print(nx.number_connected_components(G2))\n",
    "print(largest_component_weight_ratio(G2))"
   ]
  }
 ],
 "metadata": {
  "interpreter": {
   "hash": "5d93ea64e2c3c7c315e5aac1a71ae2203f6f7d88d386c188e0703b922ab702ad"
  },
  "kernelspec": {
   "display_name": "Python 3 (ipykernel)",
   "language": "python",
   "name": "python3"
  },
  "language_info": {
   "codemirror_mode": {
    "name": "ipython",
    "version": 3
   },
   "file_extension": ".py",
   "mimetype": "text/x-python",
   "name": "python",
   "nbconvert_exporter": "python",
   "pygments_lexer": "ipython3",
   "version": "3.9.12"
  }
 },
 "nbformat": 4,
 "nbformat_minor": 4
}
